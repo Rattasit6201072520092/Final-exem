{
 "cells": [
  {
   "cell_type": "code",
   "execution_count": 254,
   "metadata": {},
   "outputs": [],
   "source": [
    "import numpy as np\n",
    "import cv2 \n",
    "import scipy\n",
    "import matplotlib.pylab as plt\n",
    "from skimage import io\n",
    "import os"
   ]
  },
  {
   "cell_type": "markdown",
   "metadata": {},
   "source": []
  },
  {
   "cell_type": "code",
   "execution_count": 255,
   "metadata": {},
   "outputs": [],
   "source": [
    "def augmented_image(frame,im_src, pts_src, pts_dst):\n",
    "    \n",
    "    # Calculate Homography\n",
    "    h, status = cv2.findHomography(pts_src, pts_dst)\n",
    "\n",
    "    # Warp source image to destination based on homography\n",
    "    warped_image = cv2.warpPerspective(im_src, h, (frame.shape[1],frame.shape[0]))\n",
    "            \n",
    "    # Prepare a mask representing region to copy from the warped image into the original frame.\n",
    "    mask = np.zeros([frame.shape[0], frame.shape[1]], dtype=np.uint8)\n",
    "    cv2.fillConvexPoly(mask, np.int32(pts_dst), (255, 255, 255), cv2.LINE_AA)\n",
    "    im_out = cv2.add(frame, warped_image, mask=cv2.bitwise_not(mask))\n",
    "    im_out = cv2.add(im_out, warped_image)\n",
    "    \n",
    "    return im_out"
   ]
  },
  {
   "cell_type": "code",
   "execution_count": 256,
   "metadata": {},
   "outputs": [],
   "source": [
    "params_dir = os.getcwd()+'/camera_params/monocular_camera_params/' # เรียกค่าจาก การ calibration\n",
    "#load camera parameters\n",
    "K = np.load(params_dir+'K.npy')\n",
    "dist = np.load(params_dir+'dist.npy')\n"
   ]
  },
  {
   "cell_type": "code",
   "execution_count": 257,
   "metadata": {},
   "outputs": [],
   "source": [
    "AruCo_dict = cv2.aruco.Dictionary_get(cv2.aruco.DICT_4X4_1000) # กำหนดค่า ของ  ARUCO\n",
    "AruCo_params = cv2.aruco.DetectorParameters_create()\n",
    "board = cv2.aruco.GridBoard_create(1, 1, 0.182, 0.0075, AruCo_dict)"
   ]
  },
  {
   "cell_type": "code",
   "execution_count": 258,
   "metadata": {},
   "outputs": [],
   "source": [
    "def write_text(img, pose,dy, text) : # สร้าง  write_text \n",
    "    x0 = pose[0]\n",
    "    y0 = pose[1]\n",
    "    for i, line in enumerate(text.split('\\n')) :\n",
    "        y = y0 + i*dy\n",
    "        cv2.putText(img, line, np.int32([x0, y]), cv2.FONT_HERSHEY_COMPLEX, 0.75, (0,0,255), 2) # ฟอนต์ ขนาด สี ความหนา"
   ]
  },
  {
   "cell_type": "code",
   "execution_count": 259,
   "metadata": {},
   "outputs": [],
   "source": [
    "vid = cv2.VideoCapture('./videos/final_exam/Dataset-1/left_output-1.avi') # เรียก Video\n",
    "template_img = cv2.imread('./images/final_exam/Templates/Template-1.png') # เรียยก template_img\n",
    "qr = cv2.imread('./images/QR-Code.jpg') # เรียก qr \n",
    "im_src_size = qr.shape[:2] # เก็บค่า im_src_size \n",
    "src_points = np.float32([[-0.182,-0.240], [im_src_size[1],0],[im_src_size[1], im_src_size[0]] ,[0, im_src_size[0]] ]) #ตำแหน่งของ qr\n",
    "template_gray = cv2.cvtColor(template_img, cv2.COLOR_BGR2GRAY) # แปลง template_img ให้เป็น template_gray"
   ]
  },
  {
   "cell_type": "code",
   "execution_count": 260,
   "metadata": {},
   "outputs": [],
   "source": [
    "while vid.isOpened() : # คำสั่งเปิด Video\n",
    "    ret,  frame = vid.read()  # สร้าง frame \n",
    "\n",
    "    if ret :\n",
    "        \n",
    "        query_img = frame\n",
    "        kernel = np.array([[0,0,0], [0, 1.5,0],[0,0,0]])  # สร้าง kernel เพื่อใช่ค่า ทำให้ภาพสว่าง \n",
    "        filter2d = cv2.filter2D(query_img, -1, kernel) # filter2D เก็บค่า query_img ใน\n",
    "\n",
    "        # alpha = 1.23 #  กำหนดค่า  alpha  \n",
    "        # beta = 75 # กำหนดค่า  beta\n",
    "        # filter2d = cv2.convertScaleAbs (  query_img , alpha = alpha ,beta = beta) # ทำการ convertScaleAbs  ให้กับ query_img เก็บค่าใน filter2d\n",
    "        query_gray = cv2.cvtColor(filter2d, cv2.COLOR_BGR2GRAY) # นำ filter2d แปลงเป็น ภาพ \n",
    "    \n",
    "        sift = cv2.SIFT_create() #ใช้ function sift ค้นหาจุดที่คล้ายกันมากที่สุด \n",
    "        bf = cv2.BFMatcher() # การจับคู่ Brute-Force กับตัวบอก SIFT  \n",
    "\n",
    "        template_kpts, template_desc = sift.detectAndCompute(template_img, None)\n",
    "        query_kpts, query_desc = sift.detectAndCompute(query_gray, None)\n",
    "        matches = bf.knnMatch(template_desc, query_desc, k=2)\n",
    "\n",
    "        good_matches = list()\n",
    "        good_matches_list = list()\n",
    "        for m, n in matches :\n",
    "            if m.distance < 0.7*n.distance :\n",
    "                good_matches.append(m)\n",
    "                good_matches_list.append([m])\n",
    "        \n",
    "\n",
    "           ##### Ransac ##### \n",
    "\n",
    "\n",
    "        if len(good_matches) > 14 : # good matches = 14\n",
    "            src_pts = np.float32([ template_kpts[m.queryIdx].pt for m in good_matches ]).reshape(-1,1,2)\n",
    "            dst_pts = np.float32([ query_kpts[m.trainIdx].pt for m in good_matches ]).reshape(-1,1,2)\n",
    "\n",
    "            H, inlier_masks = cv2.findHomography(src_pts, dst_pts, cv2.RANSAC, 1.2) # RANSAC \n",
    "            # get the bounding box around template image\n",
    "            h, w = template_img.shape[:2]\n",
    "            template_box = np.float32([[0, 0], [0, h-1], [w-1, h-1], [w-1, 0]]).reshape(-1,1,2) \n",
    "            transformed_box = cv2.perspectiveTransform(template_box, H)\n",
    "\n",
    "            detected_img = cv2.polylines( frame, [np.int32(transformed_box)], True, (0,255,255), 2, cv2.LINE_AA)\n",
    "            drawmatch_img = cv2.drawMatchesKnn(template_img, template_kpts, detected_img, query_kpts, good_matches_list, None, flags=2, matchesMask=inlier_masks)\n",
    "\n",
    "            augmented = augmented_image(detected_img, qr, src_points,transformed_box)\n",
    "\n",
    "            img = augmented.copy() # สร้าง img เก็บค่า  augmented\n",
    "            markerCorners, markerIds, rejectedCandidates = cv2.aruco.detectMarkers(augmented , AruCo_dict, parameters = AruCo_params)\n",
    "        \n",
    "            if len(markerCorners) > 0: # ส่วนของ ARUCO เพื่อสแกนหาตำแหน่ง\n",
    "                img = cv2.aruco.drawDetectedMarkers(augmented , markerCorners)\n",
    "                rvecs, tvecs, points = cv2.aruco.estimatePoseSingleMarkers(markerCorners , 0.05, K, dist)\n",
    "                for (rvec, tvec, id, corner) in zip(rvecs, tvecs, markerIds, markerCorners) :\n",
    "                    img = cv2.aruco.drawAxis(augmented , K, dist, rvec, tvec, 0.05)\n",
    "                    x = tvec[0,0]\n",
    "                    y = tvec[0,1]\n",
    "                    z = tvec[0,2]\n",
    "                    text = \" X :{:.2f} \\n Y :{:.2f} \\n Z :{:.2f}\".format( x, y, z) # ตำแหน่งทศนิยม \n",
    "                    cX = (corner[0,0][0] + corner[0,2][0])/1.8  # ตำแหน่งภาพที่จะจัดว่างตำแหน่ง\n",
    "                    cY = (corner[0,0][1] + corner[0,2][1])/1.7  # ตำแหน่งภาพที่จะจัดว่างตำแหน่ง\n",
    "                    write_text(detected_img, (cX, cY), 30, text) #เขียนใน detected_img\n",
    "                ret, brvec, btvec = cv2.aruco.estimatePoseBoard(markerCorners, markerIds, board, K, dist, rvecs, tvecs) \n",
    "\n",
    "            # cv2.imshow('Video frame',augmented)\n",
    "            cv2.imshow('Video detected',detected_img)\n",
    "           \n",
    "        if cv2.waitKey(int(1000/20)) & 0xFF == ord('q') : # this line control the period between image frame\n",
    "            break\n",
    "    else :\n",
    "        break\n",
    "\n",
    "vid.release  ()\n",
    "cv2.destroyAllWindows ()"
   ]
  },
  {
   "cell_type": "markdown",
   "metadata": {},
   "source": []
  }
 ],
 "metadata": {
  "interpreter": {
   "hash": "a72cd2ab1472749a533f08f0665381b5cdbc8ed3787b0035631d0615d84bd521"
  },
  "kernelspec": {
   "display_name": "Python 3.8.8 64-bit ('base': conda)",
   "name": "python3"
  },
  "language_info": {
   "codemirror_mode": {
    "name": "ipython",
    "version": 3
   },
   "file_extension": ".py",
   "mimetype": "text/x-python",
   "name": "python",
   "nbconvert_exporter": "python",
   "pygments_lexer": "ipython3",
   "version": "3.8.8"
  },
  "orig_nbformat": 4
 },
 "nbformat": 4,
 "nbformat_minor": 2
}
